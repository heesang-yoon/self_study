{
 "cells": [
  {
   "cell_type": "code",
   "execution_count": 1,
   "metadata": {},
   "outputs": [],
   "source": [
    "from sklearn.base import BaseEstimator"
   ]
  },
  {
   "cell_type": "code",
   "execution_count": 2,
   "metadata": {},
   "outputs": [],
   "source": [
    "class MydummyClassifier(BaseEstimator):\n",
    "    def fit(self, X, y= None):\n",
    "        pass\n",
    "    \n",
    "def predict(self,X):\n",
    "    pred = np.zeros((X.Shape[0],1))\n",
    "    for i in range(X.shape[0]):\n",
    "        if x['Sex'].iloc[i] == 1:\n",
    "            pred[i] = 0\n",
    "        else:\n",
    "            pred[i] = 1\n",
    "            \n",
    "    return pred"
   ]
  },
  {
   "cell_type": "code",
   "execution_count": 3,
   "metadata": {},
   "outputs": [],
   "source": [
    "from sklearn.datasets import fetch_openml\n",
    "from sklearn.model_selection import train_test_split\n",
    "from sklearn.metrics import accuracy_score\n",
    "import numpy as np\n",
    "import pandas as pd"
   ]
  },
  {
   "cell_type": "code",
   "execution_count": 4,
   "metadata": {},
   "outputs": [],
   "source": [
    "class MyFakeClassifier(BaseEstimator):\n",
    "    def fit(self, X, y):\n",
    "        pass\n",
    "\n",
    "    def predict(self, X):\n",
    "        return np.zeros((len(X),1), dtype = bool)"
   ]
  },
  {
   "cell_type": "code",
   "execution_count": 5,
   "metadata": {},
   "outputs": [],
   "source": [
    "digits = fetch_openml('mnist_784', version = 1)"
   ]
  },
  {
   "cell_type": "code",
   "execution_count": 6,
   "metadata": {},
   "outputs": [],
   "source": [
    "y = (digits.target == '7').astype(int)"
   ]
  },
  {
   "cell_type": "code",
   "execution_count": 7,
   "metadata": {},
   "outputs": [],
   "source": [
    "X_train, X_test, y_train, y_test = train_test_split(digits.data, y, random_state = 11)"
   ]
  },
  {
   "cell_type": "code",
   "execution_count": 8,
   "metadata": {},
   "outputs": [
    {
     "name": "stdout",
     "output_type": "stream",
     "text": [
      "레이블 테스트 세트 크기 : (17500,)\n",
      "테스트 세트 레이블 0 과 1의 분포도 :\n",
      " 0    15667\n",
      "1     1833\n",
      "dtype: int64\n"
     ]
    }
   ],
   "source": [
    "print('레이블 테스트 세트 크기 :', y_test.shape)\n",
    "print('테스트 세트 레이블 0 과 1의 분포도 :\\n', pd.Series(y_test).value_counts())\n"
   ]
  },
  {
   "cell_type": "code",
   "execution_count": 9,
   "metadata": {},
   "outputs": [],
   "source": [
    "fakeclf = MyFakeClassifier()\n",
    "fakeclf.fit(X_train, y_train)"
   ]
  },
  {
   "cell_type": "code",
   "execution_count": 10,
   "metadata": {},
   "outputs": [],
   "source": [
    "fakepred = fakeclf.predict(X_test)"
   ]
  },
  {
   "cell_type": "code",
   "execution_count": 11,
   "metadata": {},
   "outputs": [
    {
     "name": "stdout",
     "output_type": "stream",
     "text": [
      "모든 예측을 0으로 해도 나오는 정확도는 : 0.895\n"
     ]
    }
   ],
   "source": [
    "print('모든 예측을 0으로 해도 나오는 정확도는 : {0:.3f}'.format(accuracy_score(fakepred, y_test)))"
   ]
  },
  {
   "cell_type": "code",
   "execution_count": 13,
   "metadata": {},
   "outputs": [],
   "source": [
    "from sklearn.metrics import confusion_matrix"
   ]
  },
  {
   "cell_type": "code",
   "execution_count": 14,
   "metadata": {},
   "outputs": [
    {
     "data": {
      "text/plain": [
       "array([[15667,  1833],\n",
       "       [    0,     0]], dtype=int64)"
      ]
     },
     "execution_count": 14,
     "metadata": {},
     "output_type": "execute_result"
    }
   ],
   "source": [
    "confusion_matrix(fakepred, y_test)"
   ]
  },
  {
   "cell_type": "code",
   "execution_count": 16,
   "metadata": {},
   "outputs": [],
   "source": [
    "from sklearn.metrics import accuracy_score, precision_score, recall_score, confusion_matrix\n",
    "\n",
    "def get_clf_eval(y_test, pred):\n",
    "    confusion = confusion_matrix(y_test, pred)\n",
    "    accuracy = accuracy_score(y_test, pred)\n",
    "    precision = precision_score(y_test, pred)\n",
    "    recall = recall_score(y_test, pred)\n",
    "    print('오차 행렬')\n",
    "    print(confusion)\n",
    "    print('정확도 : {0:.4f}, 정밀도 : {1:.4f}, 재현율 : {2:.4f}'.format(accuracy, precision, recall))"
   ]
  },
  {
   "cell_type": "code",
   "execution_count": 22,
   "metadata": {},
   "outputs": [],
   "source": [
    "from sklearn.preprocessing import LabelEncoder"
   ]
  },
  {
   "cell_type": "code",
   "execution_count": 23,
   "metadata": {},
   "outputs": [],
   "source": [
    "def fillna(df):\n",
    "    df['Age'].fillna(df['Age'].mean(), inplace = True)\n",
    "    df['Cabin'].fillna('N', inplace = True)\n",
    "    df['Embarked'].fillna('N', inplace = True)\n",
    "    df['Fare'].fillna(0, inplace = True)\n",
    "    return df\n",
    "\n",
    "def drop_features(df):\n",
    "    df.drop(['PassengerId', 'Name', 'Ticket'], axis = 1 , inplace = True)\n",
    "    return df\n",
    "\n",
    "def format_features(df):\n",
    "    df['Cabin'] = df['Cabin'].str[:1]\n",
    "    features = ['Cabin', 'Sex', 'Embarked']\n",
    "    for feature in features:\n",
    "        le = LabelEncoder()\n",
    "        le = le.fit(df[feature])\n",
    "        df[feature] = le.transform(df[feature])\n",
    "        \n",
    "    return df\n",
    "\n",
    "\n",
    "def transform_features(df):\n",
    "    df = fillna(df)\n",
    "    df = drop_features(df)\n",
    "    df = format_features(df)\n",
    "    return df"
   ]
  },
  {
   "cell_type": "code",
   "execution_count": 24,
   "metadata": {},
   "outputs": [],
   "source": [
    "y_titanic_df = titanic_df['Survived']\n",
    "X_titanic_df = titanic_df.drop('Survived', axis = 1)\n",
    "X_titanic_df = transform_features(X_titanic_df)"
   ]
  },
  {
   "cell_type": "code",
   "execution_count": 25,
   "metadata": {},
   "outputs": [],
   "source": [
    "X_train, X_test, y_train, y_test = train_test_split(X_titanic_df, y_titanic_df, test_size = 0.2, random_state = 11)"
   ]
  },
  {
   "cell_type": "code",
   "execution_count": 29,
   "metadata": {},
   "outputs": [],
   "source": [
    "from sklearn.linear_model import LogisticRegression"
   ]
  },
  {
   "cell_type": "code",
   "execution_count": 30,
   "metadata": {},
   "outputs": [],
   "source": [
    "lr_clf = LogisticRegression()"
   ]
  },
  {
   "cell_type": "code",
   "execution_count": 31,
   "metadata": {},
   "outputs": [
    {
     "name": "stderr",
     "output_type": "stream",
     "text": [
      "C:\\Users\\msi\\anaconda3\\lib\\site-packages\\sklearn\\linear_model\\_logistic.py:762: ConvergenceWarning: lbfgs failed to converge (status=1):\n",
      "STOP: TOTAL NO. of ITERATIONS REACHED LIMIT.\n",
      "\n",
      "Increase the number of iterations (max_iter) or scale the data as shown in:\n",
      "    https://scikit-learn.org/stable/modules/preprocessing.html\n",
      "Please also refer to the documentation for alternative solver options:\n",
      "    https://scikit-learn.org/stable/modules/linear_model.html#logistic-regression\n",
      "  n_iter_i = _check_optimize_result(\n"
     ]
    },
    {
     "data": {
      "text/plain": [
       "LogisticRegression()"
      ]
     },
     "execution_count": 31,
     "metadata": {},
     "output_type": "execute_result"
    }
   ],
   "source": [
    "lr_clf.fit(X_train, y_train)"
   ]
  },
  {
   "cell_type": "code",
   "execution_count": 32,
   "metadata": {},
   "outputs": [],
   "source": [
    "pred = lr_clf.predict(X_test)"
   ]
  },
  {
   "cell_type": "code",
   "execution_count": 33,
   "metadata": {},
   "outputs": [
    {
     "name": "stdout",
     "output_type": "stream",
     "text": [
      "오차 행렬\n",
      "[[104  14]\n",
      " [ 13  48]]\n",
      "정확도 : 0.8492, 정밀도 : 0.7742, 재현율 : 0.7869\n"
     ]
    }
   ],
   "source": [
    "get_clf_eval(y_test,pred)"
   ]
  },
  {
   "cell_type": "code",
   "execution_count": 34,
   "metadata": {},
   "outputs": [
    {
     "name": "stdout",
     "output_type": "stream",
     "text": [
      "pred_proba()결과 shape : (179, 2)\n",
      "pred_proba array에서 앞 3개만 샘플로 추출 \n",
      " :  [[0.46196064 0.53803936]\n",
      " [0.87860795 0.12139205]\n",
      " [0.87714215 0.12285785]]\n"
     ]
    }
   ],
   "source": [
    "pred_proba = lr_clf.predict_proba(X_test)\n",
    "pred = lr_clf.predict(X_test)\n",
    "print('pred_proba()결과 shape : {0}'.format(pred_proba.shape))\n",
    "print('pred_proba array에서 앞 3개만 샘플로 추출 \\n : ', pred_proba[:3])"
   ]
  },
  {
   "cell_type": "code",
   "execution_count": 36,
   "metadata": {
    "collapsed": true,
    "jupyter": {
     "outputs_hidden": true
    }
   },
   "outputs": [
    {
     "data": {
      "text/plain": [
       "array([[0.46196064, 0.53803936],\n",
       "       [0.87860795, 0.12139205],\n",
       "       [0.87714215, 0.12285785],\n",
       "       [0.88265446, 0.11734554],\n",
       "       [0.85532615, 0.14467385],\n",
       "       [0.8822094 , 0.1177906 ],\n",
       "       [0.88835753, 0.11164247],\n",
       "       [0.20894318, 0.79105682],\n",
       "       [0.78293618, 0.21706382],\n",
       "       [0.36934246, 0.63065754],\n",
       "       [0.89978874, 0.10021126],\n",
       "       [0.87500056, 0.12499944],\n",
       "       [0.87713606, 0.12286394],\n",
       "       [0.8883108 , 0.1116892 ],\n",
       "       [0.4365136 , 0.5634864 ],\n",
       "       [0.85890466, 0.14109534],\n",
       "       [0.90374854, 0.09625146],\n",
       "       [0.73341056, 0.26658944],\n",
       "       [0.72480075, 0.27519925],\n",
       "       [0.17179312, 0.82820688],\n",
       "       [0.75359271, 0.24640729],\n",
       "       [0.61919607, 0.38080393],\n",
       "       [0.85453876, 0.14546124],\n",
       "       [0.81483216, 0.18516784],\n",
       "       [0.88793336, 0.11206664],\n",
       "       [0.76551877, 0.23448123],\n",
       "       [0.85964939, 0.14035061],\n",
       "       [0.9258068 , 0.0741932 ],\n",
       "       [0.71958361, 0.28041639],\n",
       "       [0.69552911, 0.30447089],\n",
       "       [0.05278153, 0.94721847],\n",
       "       [0.18264777, 0.81735223],\n",
       "       [0.87324734, 0.12675266],\n",
       "       [0.1739805 , 0.8260195 ],\n",
       "       [0.60072654, 0.39927346],\n",
       "       [0.76551877, 0.23448123],\n",
       "       [0.92758116, 0.07241884],\n",
       "       [0.38900891, 0.61099109],\n",
       "       [0.94708897, 0.05291103],\n",
       "       [0.89602205, 0.10397795],\n",
       "       [0.64947927, 0.35052073],\n",
       "       [0.91659514, 0.08340486],\n",
       "       [0.17824552, 0.82175448],\n",
       "       [0.29247975, 0.70752025],\n",
       "       [0.36955406, 0.63044594],\n",
       "       [0.36953748, 0.63046252],\n",
       "       [0.08102936, 0.91897064],\n",
       "       [0.64101274, 0.35898726],\n",
       "       [0.05118335, 0.94881665],\n",
       "       [0.88789819, 0.11210181],\n",
       "       [0.40697027, 0.59302973],\n",
       "       [0.8883108 , 0.1116892 ],\n",
       "       [0.86713544, 0.13286456],\n",
       "       [0.27502482, 0.72497518],\n",
       "       [0.69065852, 0.30934148],\n",
       "       [0.80287496, 0.19712504],\n",
       "       [0.77367097, 0.22632903],\n",
       "       [0.87714109, 0.12285891],\n",
       "       [0.84571359, 0.15428641],\n",
       "       [0.56776688, 0.43223312],\n",
       "       [0.71988061, 0.28011939],\n",
       "       [0.89923536, 0.10076464],\n",
       "       [0.45444423, 0.54555577],\n",
       "       [0.48637711, 0.51362289],\n",
       "       [0.5557733 , 0.4442267 ],\n",
       "       [0.90534427, 0.09465573],\n",
       "       [0.33314529, 0.66685471],\n",
       "       [0.40580513, 0.59419487],\n",
       "       [0.04817698, 0.95182302],\n",
       "       [0.85190787, 0.14809213],\n",
       "       [0.87110754, 0.12889246],\n",
       "       [0.8314624 , 0.1685376 ],\n",
       "       [0.89601977, 0.10398023],\n",
       "       [0.05199267, 0.94800733],\n",
       "       [0.80135564, 0.19864436],\n",
       "       [0.8883108 , 0.1116892 ],\n",
       "       [0.65201249, 0.34798751],\n",
       "       [0.81630791, 0.18369209],\n",
       "       [0.16443923, 0.83556077],\n",
       "       [0.87714109, 0.12285891],\n",
       "       [0.20517105, 0.79482895],\n",
       "       [0.35473316, 0.64526684],\n",
       "       [0.06903791, 0.93096209],\n",
       "       [0.86690426, 0.13309574],\n",
       "       [0.05104374, 0.94895626],\n",
       "       [0.0496361 , 0.9503639 ],\n",
       "       [0.84656569, 0.15343431],\n",
       "       [0.87449516, 0.12550484],\n",
       "       [0.12552841, 0.87447159],\n",
       "       [0.8883108 , 0.1116892 ],\n",
       "       [0.8883108 , 0.1116892 ],\n",
       "       [0.76551877, 0.23448123],\n",
       "       [0.76764941, 0.23235059],\n",
       "       [0.8883108 , 0.1116892 ],\n",
       "       [0.36953748, 0.63046252],\n",
       "       [0.92423316, 0.07576684],\n",
       "       [0.07116065, 0.92883935],\n",
       "       [0.89922402, 0.10077598],\n",
       "       [0.49444642, 0.50555358],\n",
       "       [0.03493399, 0.96506601],\n",
       "       [0.49838065, 0.50161935],\n",
       "       [0.90557884, 0.09442116],\n",
       "       [0.05195871, 0.94804129],\n",
       "       [0.9024004 , 0.0975996 ],\n",
       "       [0.47000891, 0.52999109],\n",
       "       [0.87155927, 0.12844073],\n",
       "       [0.85885677, 0.14114323],\n",
       "       [0.85190818, 0.14809182],\n",
       "       [0.55092154, 0.44907846],\n",
       "       [0.89224812, 0.10775188],\n",
       "       [0.88294181, 0.11705819],\n",
       "       [0.89104615, 0.10895385],\n",
       "       [0.59672378, 0.40327622],\n",
       "       [0.34624105, 0.65375895],\n",
       "       [0.88793336, 0.11206664],\n",
       "       [0.92901044, 0.07098956],\n",
       "       [0.87561865, 0.12438135],\n",
       "       [0.80158991, 0.19841009],\n",
       "       [0.07408211, 0.92591789],\n",
       "       [0.93129125, 0.06870875],\n",
       "       [0.88831981, 0.11168019],\n",
       "       [0.86934524, 0.13065476],\n",
       "       [0.93634592, 0.06365408],\n",
       "       [0.67810038, 0.32189962],\n",
       "       [0.98841605, 0.01158395],\n",
       "       [0.88831981, 0.11168019],\n",
       "       [0.8837373 , 0.1162627 ],\n",
       "       [0.68336594, 0.31663406],\n",
       "       [0.32220694, 0.67779306],\n",
       "       [0.67841862, 0.32158138],\n",
       "       [0.03493399, 0.96506601],\n",
       "       [0.54620055, 0.45379945],\n",
       "       [0.264959  , 0.735041  ],\n",
       "       [0.55705717, 0.44294283],\n",
       "       [0.43016477, 0.56983523],\n",
       "       [0.6489958 , 0.3510042 ],\n",
       "       [0.25160668, 0.74839332],\n",
       "       [0.81370968, 0.18629032],\n",
       "       [0.89599416, 0.10400584],\n",
       "       [0.19663454, 0.80336546],\n",
       "       [0.09116491, 0.90883509],\n",
       "       [0.85190818, 0.14809182],\n",
       "       [0.88193688, 0.11806312],\n",
       "       [0.89881254, 0.10118746],\n",
       "       [0.90831185, 0.09168815],\n",
       "       [0.33235096, 0.66764904],\n",
       "       [0.92427903, 0.07572097],\n",
       "       [0.76631719, 0.23368281],\n",
       "       [0.08190772, 0.91809228],\n",
       "       [0.83187838, 0.16812162],\n",
       "       [0.57150983, 0.42849017],\n",
       "       [0.36835827, 0.63164173],\n",
       "       [0.36341444, 0.63658556],\n",
       "       [0.87719767, 0.12280233],\n",
       "       [0.22239348, 0.77760652],\n",
       "       [0.11906504, 0.88093496],\n",
       "       [0.51254759, 0.48745241],\n",
       "       [0.86696912, 0.13303088],\n",
       "       [0.24857335, 0.75142665],\n",
       "       [0.30957096, 0.69042904],\n",
       "       [0.85014234, 0.14985766],\n",
       "       [0.20708631, 0.79291369],\n",
       "       [0.90867884, 0.09132116],\n",
       "       [0.33321398, 0.66678602],\n",
       "       [0.61999857, 0.38000143],\n",
       "       [0.3486388 , 0.6513612 ],\n",
       "       [0.11585396, 0.88414604],\n",
       "       [0.69100855, 0.30899145],\n",
       "       [0.90829223, 0.09170777],\n",
       "       [0.10703693, 0.89296307],\n",
       "       [0.88835753, 0.11164247],\n",
       "       [0.14584882, 0.85415118],\n",
       "       [0.74962298, 0.25037702],\n",
       "       [0.75991286, 0.24008714],\n",
       "       [0.5988684 , 0.4011316 ],\n",
       "       [0.93764782, 0.06235218],\n",
       "       [0.85884964, 0.14115036],\n",
       "       [0.45502103, 0.54497897],\n",
       "       [0.37322396, 0.62677604]])"
      ]
     },
     "execution_count": 36,
     "metadata": {},
     "output_type": "execute_result"
    }
   ],
   "source": [
    "pred_proba"
   ]
  },
  {
   "cell_type": "code",
   "execution_count": 37,
   "metadata": {},
   "outputs": [],
   "source": [
    "from sklearn.preprocessing import Binarizer"
   ]
  },
  {
   "cell_type": "code",
   "execution_count": 56,
   "metadata": {},
   "outputs": [
    {
     "name": "stdout",
     "output_type": "stream",
     "text": [
      "오차 행렬\n",
      "[[112   6]\n",
      " [ 16  45]]\n",
      "정확도 : 0.8771, 정밀도 : 0.8824, 재현율 : 0.7377\n"
     ]
    }
   ],
   "source": [
    "custom_threshold = 0.6\n",
    "\n",
    "pred_proba_1 = pred_proba[:,1].reshape(-1,1)\n",
    "\n",
    "binarizer = Binarizer(threshold = custom_threshold).fit(pred_proba_1)\n",
    "custom_predict = binarizer.transform(pred_proba_1)\n",
    "\n",
    "get_clf_eval(y_test, custom_predict)"
   ]
  },
  {
   "cell_type": "code",
   "execution_count": 61,
   "metadata": {},
   "outputs": [],
   "source": [
    "thresholds = [0.4, 0.45, 0.5, 0.55, 0.6]\n",
    "\n",
    "def get_eval_by_threshold(y_test, pred_proba_1, thresholds):\n",
    "    for custom_threshold in thresholds:\n",
    "        binarizer = Binarizer(threshold = custom_threshold).fit(pred_proba_1)\n",
    "        custom_predict = binarizer.transform(pred_proba_1)\n",
    "        \n",
    "        print('threshold 값이 {0}일 때  :\\n'.format(custom_threshold))\n",
    "        get_clf_eval(y_test, custom_predict)\n",
    "        print('\\n\\n')"
   ]
  },
  {
   "cell_type": "code",
   "execution_count": 62,
   "metadata": {},
   "outputs": [
    {
     "name": "stdout",
     "output_type": "stream",
     "text": [
      "threshold 값이 0.4일 때  :\n",
      "\n",
      "오차 행렬\n",
      "[[98 20]\n",
      " [10 51]]\n",
      "정확도 : 0.8324, 정밀도 : 0.7183, 재현율 : 0.8361\n",
      "\n",
      "\n",
      "\n",
      "threshold 값이 0.45일 때  :\n",
      "\n",
      "오차 행렬\n",
      "[[103  15]\n",
      " [ 12  49]]\n",
      "정확도 : 0.8492, 정밀도 : 0.7656, 재현율 : 0.8033\n",
      "\n",
      "\n",
      "\n",
      "threshold 값이 0.5일 때  :\n",
      "\n",
      "오차 행렬\n",
      "[[104  14]\n",
      " [ 13  48]]\n",
      "정확도 : 0.8492, 정밀도 : 0.7742, 재현율 : 0.7869\n",
      "\n",
      "\n",
      "\n",
      "threshold 값이 0.55일 때  :\n",
      "\n",
      "오차 행렬\n",
      "[[109   9]\n",
      " [ 15  46]]\n",
      "정확도 : 0.8659, 정밀도 : 0.8364, 재현율 : 0.7541\n",
      "\n",
      "\n",
      "\n",
      "threshold 값이 0.6일 때  :\n",
      "\n",
      "오차 행렬\n",
      "[[112   6]\n",
      " [ 16  45]]\n",
      "정확도 : 0.8771, 정밀도 : 0.8824, 재현율 : 0.7377\n",
      "\n",
      "\n",
      "\n"
     ]
    }
   ],
   "source": [
    "get_eval_by_threshold(y_test, pred_proba_1, thresholds)"
   ]
  },
  {
   "cell_type": "code",
   "execution_count": 63,
   "metadata": {},
   "outputs": [],
   "source": [
    "from sklearn.metrics import precision_recall_curve"
   ]
  },
  {
   "cell_type": "code",
   "execution_count": 65,
   "metadata": {},
   "outputs": [
    {
     "name": "stdout",
     "output_type": "stream",
     "text": [
      "반환된 분류 결정 임곗값 배열의 Shape: (143,)\n"
     ]
    }
   ],
   "source": [
    "pred_proba_class1 = lr_clf.predict_proba(X_test)[:, 1]\n",
    "precisions, recalls, thresholds = precision_recall_curve(y_test, pred_proba_class1)\n",
    "print('반환된 분류 결정 임곗값 배열의 Shape:', thresholds.shape)\n",
    "\n",
    "thr_index = np.arange(0, thresholds.shape[0], 15)\n"
   ]
  },
  {
   "cell_type": "code",
   "execution_count": 68,
   "metadata": {},
   "outputs": [],
   "source": [
    "import matplotlib.pyplot as plt\n",
    "import matplotlib.ticker as ticker\n",
    "%matplotlib inline"
   ]
  },
  {
   "cell_type": "code",
   "execution_count": 69,
   "metadata": {},
   "outputs": [],
   "source": [
    "from sklearn.metrics import f1_score"
   ]
  },
  {
   "cell_type": "code",
   "execution_count": 72,
   "metadata": {},
   "outputs": [
    {
     "data": {
      "text/plain": [
       "0.7804878048780488"
      ]
     },
     "execution_count": 72,
     "metadata": {},
     "output_type": "execute_result"
    }
   ],
   "source": [
    "f1 = f1_score(y_test, pred)\n",
    "f1"
   ]
  },
  {
   "cell_type": "code",
   "execution_count": null,
   "metadata": {},
   "outputs": [],
   "source": []
  }
 ],
 "metadata": {
  "kernelspec": {
   "display_name": "Python 3",
   "language": "python",
   "name": "python3"
  },
  "language_info": {
   "codemirror_mode": {
    "name": "ipython",
    "version": 3
   },
   "file_extension": ".py",
   "mimetype": "text/x-python",
   "name": "python",
   "nbconvert_exporter": "python",
   "pygments_lexer": "ipython3",
   "version": "3.8.3"
  }
 },
 "nbformat": 4,
 "nbformat_minor": 4
}
